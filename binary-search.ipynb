{
 "cells": [
  {
   "cell_type": "markdown",
   "metadata": {},
   "source": [
    "In this notebook, we focus on solving the following problem:\n",
    "\n",
    "QUESTION 1: Alice has some cards with numbers written on them. She arranges the cards in decreasing order, and lays them out face down in a sequence on a table. She challenges Bob to pick out the card containing a given number by turning over as few cards as possible. Write a function to help Bob locate the card.\n",
    "\n",
    "\n",
    "This may seem like a simple problem, especially if you're familiar with the concept of binary search, but the strategy and technique we learning here will be widely applicable, and we'll soon use it to solve harder problems. [https://jovian.ai/learn/data-structures-and-algorithms-in-python/lesson/lesson-1-binary-search-linked-lists-and-complexity]"
   ]
  },
  {
   "cell_type": "markdown",
   "metadata": {},
   "source": [
    "The first step is to state the problem clearly and precisely in abstract terms.\n",
    "\n",
    "\n",
    "In this case, for instance, we can represent the sequence of cards as a list of numbers. Turning over a specific card is equivalent to accessing the value of the number at the corresponding position the list.\n",
    "\n",
    "\n",
    "The problem can now be stated as follows:\n",
    "\n",
    "Problem\n",
    "We need to write a program to find the position of a given number in a list of numbers arranged in decreasing order. We also need to minimize the number of times we access elements from the list.\n",
    "\n",
    "Input\n",
    "cards: A list of numbers sorted in decreasing order. E.g. [13, 11, 10, 7, 4, 3, 1, 0]\n",
    "query: A number, whose position in the array is to be determined. E.g. 7\n",
    "Output\n",
    "position: The position of query in the list cards. E.g. 3 in the above case (counting from 0)"
   ]
  },
  {
   "cell_type": "code",
   "execution_count": 1,
   "metadata": {},
   "outputs": [],
   "source": [
    "def locate_card(cards, query):\n",
    "    pass"
   ]
  },
  {
   "cell_type": "markdown",
   "metadata": {},
   "source": [
    "Before we start implementing our function, it would be useful to come up with some example inputs and outputs which we can use later to test out problem. We'll refer to them as test cases.\n",
    "\n",
    "Here's the test case described in the example above."
   ]
  },
  {
   "cell_type": "code",
   "execution_count": 2,
   "metadata": {},
   "outputs": [
    {
     "name": "stdout",
     "output_type": "stream",
     "text": [
      "None\n"
     ]
    }
   ],
   "source": [
    "cards = [13, 11, 10, 7, 4, 3, 1, 0]\n",
    "query = 7\n",
    "output = 3\n",
    "\n",
    "result = locate_card(cards, query)\n",
    "print(result)"
   ]
  },
  {
   "cell_type": "code",
   "execution_count": 3,
   "metadata": {},
   "outputs": [
    {
     "data": {
      "text/plain": [
       "False"
      ]
     },
     "execution_count": 3,
     "metadata": {},
     "output_type": "execute_result"
    }
   ],
   "source": [
    "result == output"
   ]
  },
  {
   "cell_type": "markdown",
   "metadata": {},
   "source": [
    "Obviously, the two result does not match the output as we have not yet implemented the function.\n",
    "\n",
    "We'll represent our test cases as dictionaries to make it easier to test them once we write implement our function. For example, the above test case can be represented as follows:"
   ]
  },
  {
   "cell_type": "code",
   "execution_count": 4,
   "metadata": {},
   "outputs": [],
   "source": [
    "test = {\n",
    "    'input': { \n",
    "        'cards': [13, 11, 10, 7, 4, 3, 1, 0], \n",
    "        'query': 7\n",
    "    },\n",
    "    'output': 3\n",
    "}"
   ]
  },
  {
   "cell_type": "code",
   "execution_count": 5,
   "metadata": {},
   "outputs": [
    {
     "data": {
      "text/plain": [
       "False"
      ]
     },
     "execution_count": 5,
     "metadata": {},
     "output_type": "execute_result"
    }
   ],
   "source": [
    "# The function can now be tested as follows.\n",
    "\n",
    "locate_card(**test['input']) == test['output']"
   ]
  },
  {
   "cell_type": "markdown",
   "metadata": {},
   "source": [
    "Our function should be able to handle any set of valid inputs we pass into it. Here's a list of some possible variations we might encounter:\n",
    "\n",
    "The number query occurs somewhere in the middle of the list cards.\n",
    "query is the first element in cards.\n",
    "query is the last element in cards.\n",
    "The list cards contains just one element, which is query.\n",
    "The list cards does not contain number query.\n",
    "The list cards is empty.\n",
    "The list cards contains repeating numbers.\n",
    "The number query occurs at more than one position in cards.\n",
    "(can you think of any more variations?)\n",
    "Edge Cases: It's likely that you didn't think of all of the above cases when you read the problem for the first time. Some of these (like the empty array or query not occurring in cards) are called edge cases, as they represent rare or extreme examples.\n",
    "\n",
    "While edge cases may not occur frequently, your programs should be able to handle all edge cases, otherwise they may fail in unexpected ways. Let's create some more test cases for the variations listed above. We'll store all our test cases in an list for easier testing."
   ]
  },
  {
   "cell_type": "code",
   "execution_count": 6,
   "metadata": {},
   "outputs": [],
   "source": [
    "tests = []\n",
    "\n",
    "# query occurs in the middle\n",
    "tests.append(test)\n",
    "\n",
    "tests.append({\n",
    "    'input': {\n",
    "        'cards': [13, 11, 10, 7, 4, 3, 1, 0],\n",
    "        'query': 1\n",
    "    },\n",
    "    'output': 6\n",
    "})"
   ]
  },
  {
   "cell_type": "code",
   "execution_count": 7,
   "metadata": {},
   "outputs": [],
   "source": [
    "# query is the first element\n",
    "tests.append({\n",
    "    'input': {\n",
    "        'cards': [4, 2, 1, -1],\n",
    "        'query': 4\n",
    "    },\n",
    "    'output': 0\n",
    "})"
   ]
  },
  {
   "cell_type": "code",
   "execution_count": 8,
   "metadata": {},
   "outputs": [],
   "source": [
    "# query is the last element\n",
    "tests.append({\n",
    "    'input' : {\n",
    "        'cards': [3, -1, -9, -127],\n",
    "        'query': -127\n",
    "    },\n",
    "    'output': 3\n",
    "})"
   ]
  },
  {
   "cell_type": "code",
   "execution_count": 9,
   "metadata": {},
   "outputs": [],
   "source": [
    "# cards contain just one element (query)\n",
    "tests.append({\n",
    "    'input' : {\n",
    "        'cards': [6],\n",
    "        'query': 6\n",
    "    },\n",
    "    'output': 0\n",
    "})"
   ]
  },
  {
   "cell_type": "markdown",
   "metadata": {},
   "source": [
    "The problem statement does not specify what to do if the list cards does not contain the number query.\n",
    "\n",
    "Read the problem statement again, carefully.\n",
    "Look through the examples provided with the problem.\n",
    "Ask the interviewer/platform for a clarification.\n",
    "Make a reasonable assumption, state it and move forward.\n",
    "We will assume that our function will return -1 in case cards does not contain query."
   ]
  },
  {
   "cell_type": "code",
   "execution_count": 10,
   "metadata": {},
   "outputs": [],
   "source": [
    "# cards does not contain query\n",
    "\n",
    "tests.append({\n",
    "    'input': {\n",
    "        'cards': [9, 7, 5, 2, -9],\n",
    "        'query': 4\n",
    "    },\n",
    "    'output': -1\n",
    "})"
   ]
  },
  {
   "cell_type": "code",
   "execution_count": 11,
   "metadata": {},
   "outputs": [],
   "source": [
    "# cards is empty\n",
    "\n",
    "tests.append({\n",
    "    'input':{\n",
    "        'cards': [],\n",
    "        'query': 7\n",
    "    },\n",
    "    'output': -1  \n",
    "})"
   ]
  },
  {
   "cell_type": "code",
   "execution_count": 12,
   "metadata": {},
   "outputs": [],
   "source": [
    "# numbers can repeat in cards\n",
    "tests.append({\n",
    "    'input': {\n",
    "        'cards': [8, 8, 6, 6, 6, 6, 6, 3, 2, 2, 0, 0],\n",
    "        'query': 3\n",
    "    },\n",
    "    'output': 7\n",
    "})"
   ]
  },
  {
   "cell_type": "markdown",
   "metadata": {},
   "source": [
    "In the case where query occurs multiple times in cards, we'll expect our function to return the first occurrence of query.\n",
    "\n",
    "While it may also be acceptable for the function to return any position where query occurs within the list, it would be slightly more difficult to test the function, as the output is non-deterministic."
   ]
  },
  {
   "cell_type": "code",
   "execution_count": 13,
   "metadata": {},
   "outputs": [],
   "source": [
    "# query occurs multiple times\n",
    "tests.append({\n",
    "    'input': {\n",
    "        'cards': [8, 8, 6, 6, 6, 6, 6, 6, 3, 2, 2, 2, 0, 0, 0],\n",
    "        'query': 6\n",
    "    },\n",
    "    'output': 2\n",
    "})"
   ]
  },
  {
   "cell_type": "code",
   "execution_count": 14,
   "metadata": {},
   "outputs": [
    {
     "data": {
      "text/plain": [
       "[{'input': {'cards': [13, 11, 10, 7, 4, 3, 1, 0], 'query': 7}, 'output': 3},\n",
       " {'input': {'cards': [13, 11, 10, 7, 4, 3, 1, 0], 'query': 1}, 'output': 6},\n",
       " {'input': {'cards': [4, 2, 1, -1], 'query': 4}, 'output': 0},\n",
       " {'input': {'cards': [3, -1, -9, -127], 'query': -127}, 'output': 3},\n",
       " {'input': {'cards': [6], 'query': 6}, 'output': 0},\n",
       " {'input': {'cards': [9, 7, 5, 2, -9], 'query': 4}, 'output': -1},\n",
       " {'input': {'cards': [], 'query': 7}, 'output': -1},\n",
       " {'input': {'cards': [8, 8, 6, 6, 6, 6, 6, 3, 2, 2, 0, 0], 'query': 3},\n",
       "  'output': 7},\n",
       " {'input': {'cards': [8, 8, 6, 6, 6, 6, 6, 6, 3, 2, 2, 2, 0, 0, 0],\n",
       "   'query': 6},\n",
       "  'output': 2}]"
      ]
     },
     "execution_count": 14,
     "metadata": {},
     "output_type": "execute_result"
    }
   ],
   "source": [
    "tests"
   ]
  },
  {
   "cell_type": "markdown",
   "metadata": {},
   "source": [
    "Our first goal should always be to come up with a correct solution to the problem, which may necessarily be the most efficient solution. The simplest or most obvious solution to a problem, which generally involves checking all possible answers is called the brute force solution.\n",
    "\n",
    "In this problem, coming up with a correct solution is quite easy: Bob can simply turn over cards in order one by one, till he find a card with the given number on it. Here's how we might implement it:\n",
    "\n",
    "Create a variable position with the value 0.\n",
    "Check whether the number at index position in card equals query.\n",
    "If it does, position is the answer and can be returned from the function\n",
    "If not, increment the value of position by 1, and repeat steps 2 to 5 till we reach the last position.\n",
    "If the number was not found, return -1."
   ]
  },
  {
   "cell_type": "markdown",
   "metadata": {},
   "source": [
    "This particular algorithm is called linear search, since it involves searching through a list in a linear fashion i.e. element after element."
   ]
  },
  {
   "cell_type": "code",
   "execution_count": 15,
   "metadata": {},
   "outputs": [],
   "source": [
    "def locate_card(cards, query):\n",
    "    position = 0 # create a variable position with value 0\n",
    "\n",
    "    while True:\n",
    "        # check if the element at the current position match the query\n",
    "        if cards[position] == query:\n",
    "            return position\n",
    "        \n",
    "        position += 1 # increment the position\n",
    "\n",
    "        # check if we have reached the end of the array\n",
    "\n",
    "        if position == len(cards):\n",
    "            return -1 # number not found\n"
   ]
  },
  {
   "cell_type": "code",
   "execution_count": 16,
   "metadata": {},
   "outputs": [
    {
     "data": {
      "text/plain": [
       "{'input': {'cards': [13, 11, 10, 7, 4, 3, 1, 0], 'query': 7}, 'output': 3}"
      ]
     },
     "execution_count": 16,
     "metadata": {},
     "output_type": "execute_result"
    }
   ],
   "source": [
    "test"
   ]
  },
  {
   "cell_type": "code",
   "execution_count": 17,
   "metadata": {},
   "outputs": [
    {
     "name": "stdout",
     "output_type": "stream",
     "text": [
      "3\n"
     ]
    }
   ],
   "source": [
    "result = locate_card(**test['input'])\n",
    "print(result)"
   ]
  },
  {
   "cell_type": "code",
   "execution_count": 18,
   "metadata": {},
   "outputs": [
    {
     "data": {
      "text/plain": [
       "True"
      ]
     },
     "execution_count": 18,
     "metadata": {},
     "output_type": "execute_result"
    }
   ],
   "source": [
    "result == output"
   ]
  },
  {
   "cell_type": "code",
   "execution_count": 19,
   "metadata": {},
   "outputs": [
    {
     "name": "stdout",
     "output_type": "stream",
     "text": [
      "True\n",
      "True\n",
      "True\n",
      "True\n",
      "True\n",
      "True\n"
     ]
    },
    {
     "ename": "IndexError",
     "evalue": "list index out of range",
     "output_type": "error",
     "traceback": [
      "\u001b[1;31m---------------------------------------------------------------------------\u001b[0m",
      "\u001b[1;31mIndexError\u001b[0m                                Traceback (most recent call last)",
      "\u001b[1;32m~\\AppData\\Local\\Temp/ipykernel_3884/3464447153.py\u001b[0m in \u001b[0;36m<module>\u001b[1;34m\u001b[0m\n\u001b[0;32m      1\u001b[0m \u001b[1;32mfor\u001b[0m \u001b[0mtest\u001b[0m \u001b[1;32min\u001b[0m \u001b[0mtests\u001b[0m\u001b[1;33m:\u001b[0m\u001b[1;33m\u001b[0m\u001b[1;33m\u001b[0m\u001b[0m\n\u001b[1;32m----> 2\u001b[1;33m     \u001b[0mprint\u001b[0m\u001b[1;33m(\u001b[0m\u001b[0mlocate_card\u001b[0m\u001b[1;33m(\u001b[0m\u001b[1;33m**\u001b[0m\u001b[0mtest\u001b[0m\u001b[1;33m[\u001b[0m\u001b[1;34m'input'\u001b[0m\u001b[1;33m]\u001b[0m\u001b[1;33m)\u001b[0m \u001b[1;33m==\u001b[0m \u001b[0mtest\u001b[0m\u001b[1;33m[\u001b[0m\u001b[1;34m'output'\u001b[0m\u001b[1;33m]\u001b[0m\u001b[1;33m)\u001b[0m\u001b[1;33m\u001b[0m\u001b[1;33m\u001b[0m\u001b[0m\n\u001b[0m",
      "\u001b[1;32m~\\AppData\\Local\\Temp/ipykernel_3884/254782115.py\u001b[0m in \u001b[0;36mlocate_card\u001b[1;34m(cards, query)\u001b[0m\n\u001b[0;32m      4\u001b[0m     \u001b[1;32mwhile\u001b[0m \u001b[1;32mTrue\u001b[0m\u001b[1;33m:\u001b[0m\u001b[1;33m\u001b[0m\u001b[1;33m\u001b[0m\u001b[0m\n\u001b[0;32m      5\u001b[0m         \u001b[1;31m# check if the element at the current position match the query\u001b[0m\u001b[1;33m\u001b[0m\u001b[1;33m\u001b[0m\u001b[0m\n\u001b[1;32m----> 6\u001b[1;33m         \u001b[1;32mif\u001b[0m \u001b[0mcards\u001b[0m\u001b[1;33m[\u001b[0m\u001b[0mposition\u001b[0m\u001b[1;33m]\u001b[0m \u001b[1;33m==\u001b[0m \u001b[0mquery\u001b[0m\u001b[1;33m:\u001b[0m\u001b[1;33m\u001b[0m\u001b[1;33m\u001b[0m\u001b[0m\n\u001b[0m\u001b[0;32m      7\u001b[0m             \u001b[1;32mreturn\u001b[0m \u001b[0mposition\u001b[0m\u001b[1;33m\u001b[0m\u001b[1;33m\u001b[0m\u001b[0m\n\u001b[0;32m      8\u001b[0m \u001b[1;33m\u001b[0m\u001b[0m\n",
      "\u001b[1;31mIndexError\u001b[0m: list index out of range"
     ]
    }
   ],
   "source": [
    "for test in tests:\n",
    "    print(locate_card(**test['input']) == test['output'])"
   ]
  },
  {
   "cell_type": "markdown",
   "metadata": {},
   "source": [
    "Let's solve this problem now. I will use some print statements to have some visibility in the locate_card function."
   ]
  },
  {
   "cell_type": "code",
   "execution_count": 20,
   "metadata": {},
   "outputs": [],
   "source": [
    "def locate_card(cards, query):\n",
    "    position = 0\n",
    "\n",
    "    print('cards:', cards)\n",
    "    print('query:', query)\n",
    "\n",
    "    while True:\n",
    "        print('position:', position)\n",
    "\n",
    "        if cards[position] == query:\n",
    "            return position\n",
    "        position += 1\n",
    "\n",
    "        if position == len(cards):\n",
    "            return -1"
   ]
  },
  {
   "cell_type": "code",
   "execution_count": 21,
   "metadata": {},
   "outputs": [
    {
     "name": "stdout",
     "output_type": "stream",
     "text": [
      "[]\n"
     ]
    }
   ],
   "source": [
    "cards6 = tests[6]['input']['cards']\n",
    "print(cards6)"
   ]
  },
  {
   "cell_type": "code",
   "execution_count": 22,
   "metadata": {},
   "outputs": [
    {
     "name": "stdout",
     "output_type": "stream",
     "text": [
      "7\n"
     ]
    }
   ],
   "source": [
    "query6 = tests[6]['input']['query']\n",
    "print(query6)"
   ]
  },
  {
   "cell_type": "code",
   "execution_count": 23,
   "metadata": {},
   "outputs": [
    {
     "name": "stdout",
     "output_type": "stream",
     "text": [
      "cards: []\n",
      "query: 7\n",
      "position: 0\n"
     ]
    },
    {
     "ename": "IndexError",
     "evalue": "list index out of range",
     "output_type": "error",
     "traceback": [
      "\u001b[1;31m---------------------------------------------------------------------------\u001b[0m",
      "\u001b[1;31mIndexError\u001b[0m                                Traceback (most recent call last)",
      "\u001b[1;32m~\\AppData\\Local\\Temp/ipykernel_3884/4283936214.py\u001b[0m in \u001b[0;36m<module>\u001b[1;34m\u001b[0m\n\u001b[1;32m----> 1\u001b[1;33m \u001b[0mlocate_card\u001b[0m\u001b[1;33m(\u001b[0m\u001b[0mcards6\u001b[0m\u001b[1;33m,\u001b[0m \u001b[0mquery6\u001b[0m\u001b[1;33m)\u001b[0m\u001b[1;33m\u001b[0m\u001b[1;33m\u001b[0m\u001b[0m\n\u001b[0m",
      "\u001b[1;32m~\\AppData\\Local\\Temp/ipykernel_3884/3898925431.py\u001b[0m in \u001b[0;36mlocate_card\u001b[1;34m(cards, query)\u001b[0m\n\u001b[0;32m      8\u001b[0m         \u001b[0mprint\u001b[0m\u001b[1;33m(\u001b[0m\u001b[1;34m'position:'\u001b[0m\u001b[1;33m,\u001b[0m \u001b[0mposition\u001b[0m\u001b[1;33m)\u001b[0m\u001b[1;33m\u001b[0m\u001b[1;33m\u001b[0m\u001b[0m\n\u001b[0;32m      9\u001b[0m \u001b[1;33m\u001b[0m\u001b[0m\n\u001b[1;32m---> 10\u001b[1;33m         \u001b[1;32mif\u001b[0m \u001b[0mcards\u001b[0m\u001b[1;33m[\u001b[0m\u001b[0mposition\u001b[0m\u001b[1;33m]\u001b[0m \u001b[1;33m==\u001b[0m \u001b[0mquery\u001b[0m\u001b[1;33m:\u001b[0m\u001b[1;33m\u001b[0m\u001b[1;33m\u001b[0m\u001b[0m\n\u001b[0m\u001b[0;32m     11\u001b[0m             \u001b[1;32mreturn\u001b[0m \u001b[0mposition\u001b[0m\u001b[1;33m\u001b[0m\u001b[1;33m\u001b[0m\u001b[0m\n\u001b[0;32m     12\u001b[0m         \u001b[0mposition\u001b[0m \u001b[1;33m+=\u001b[0m \u001b[1;36m1\u001b[0m\u001b[1;33m\u001b[0m\u001b[1;33m\u001b[0m\u001b[0m\n",
      "\u001b[1;31mIndexError\u001b[0m: list index out of range"
     ]
    }
   ],
   "source": [
    "locate_card(cards6, query6)"
   ]
  },
  {
   "cell_type": "markdown",
   "metadata": {},
   "source": [
    "Clearly, since cards is empty, it's not possible to access the element at index 0. To fix this, we can check whether we've reached the end of the array before trying to access an element from it. In fact, this can be terminating condition for the while loop itself."
   ]
  },
  {
   "cell_type": "code",
   "execution_count": 24,
   "metadata": {},
   "outputs": [],
   "source": [
    "def locate_card(cards, query):\n",
    "    position = 0\n",
    "\n",
    "    while position < len(cards):\n",
    "        if cards[position] == query:\n",
    "            return position\n",
    "        position += 1\n",
    "\n",
    "    return -1"
   ]
  },
  {
   "cell_type": "code",
   "execution_count": 25,
   "metadata": {},
   "outputs": [
    {
     "data": {
      "text/plain": [
       "{'input': {'cards': [], 'query': 7}, 'output': -1}"
      ]
     },
     "execution_count": 25,
     "metadata": {},
     "output_type": "execute_result"
    }
   ],
   "source": [
    "tests[6]"
   ]
  },
  {
   "cell_type": "code",
   "execution_count": 26,
   "metadata": {},
   "outputs": [
    {
     "data": {
      "text/plain": [
       "-1"
      ]
     },
     "execution_count": 26,
     "metadata": {},
     "output_type": "execute_result"
    }
   ],
   "source": [
    "   locate_card(cards6, query6)  # prevoius problem is solved"
   ]
  },
  {
   "cell_type": "markdown",
   "metadata": {},
   "source": [
    " **Analyze the algorithm's complexity and identify inefficiencies, if any.**\n",
    "\n",
    "Recall this statement from original question: \"Alice challenges Bob to pick out the card containing a given number by turning over as few cards as possible.\" We restated this requirement as: \"Minimize the number of times we access elements from the list cards\"\n",
    "\n",
    "\n",
    "Before we can minimize the number, we need a way to measure it. Since we access a list element once in every iteration, for a list of size N we access the elements from the list up to N times. Thus, Bob may need to overturn up to N cards in the worst case, to find the required card.\n",
    "\n",
    "Suppose he is only allowed to overturn 1 card per minute, it may take him 30 minutes to find the required card if 30 cards are laid out on the table. Is this the best he can do? Is a way for Bob to arrive at the answer by turning over just 5 cards, instead of 30?\n",
    "\n",
    "The field of study concerned with finding the amount of time, space or other resources required to complete the execution of computer programs is called the analysis of algorithms. And the process of figuring out the best algorithm to solve a given problem is called algorithm design and optimization."
   ]
  },
  {
   "cell_type": "markdown",
   "metadata": {},
   "source": [
    "**Complexity and Big O Notation**\n",
    "\n",
    "\n",
    "Complexity of an algorithm is a measure of the amount of time and/or space required by an algorithm for an input of a given size e.g. N. Unless otherwise stated, the term complexity always refers to the worst-case complexity (i.e. the highest possible time/space taken by the program/algorithm to process an input).\n",
    "\n",
    "In the case of linear search:\n",
    "\n",
    "The time complexity of the algorithm is cN for some fixed constant c that depends on the number of operations we perform in each iteration and the time taken to execute a statement. Time complexity is sometimes also called the running time of the algorithm.\n",
    "\n",
    "The space complexity is some constant c' (independent of N), since we just need a single variable position to iterate through the array, and it occupies a constant space in the computer's memory (RAM).\n",
    "\n",
    "Big O Notation: Worst-case complexity is often expressed using the Big O notation. In the Big O, we drop fixed constants and lower powers of variables to capture the trend of relationship between the size of the input and the complexity of the algorithm i.e. if the complexity of the algorithm is cN^3 + dN^2 + eN + f, in the Big O notation it is expressed as O(N^3)\n",
    "\n",
    "Thus, the time complexity of linear search is O(N) and its space complexity is O(1).\n",
    "\n"
   ]
  },
  {
   "cell_type": "markdown",
   "metadata": {},
   "source": [
    "At the moment, we're simply going over cards one by one, and not even utilizing the face that they're sorted. This is called a brute force approach.\n",
    "\n",
    "It would be great if Bob could somehow guess the card at the first attempt, but with all the cards turned over it's simply impossible to guess the right card.\n",
    "\n",
    "\n",
    "The next best idea would be to pick a random card, and use the fact that the list is sorted, to determine whether the target card lies to the left or right of it. In fact, if we pick the middle card, we can reduce the number of additional cards to be tested to half the size of the list. Then, we can simply repeat the process with each half. This technique is called binary search. \n",
    "\n"
   ]
  },
  {
   "cell_type": "markdown",
   "metadata": {},
   "source": [
    "**Here's how binary search can be applied to our problem:**\n",
    "\n",
    "Find the middle element of the list.\n",
    "If it matches queried number, return the middle position as the answer.\n",
    "If it is less than the queried number, then search the first half of the list\n",
    "If it is greater than the queried number, then search the second half of the list\n",
    "If no more elements remain, return -1."
   ]
  },
  {
   "cell_type": "code",
   "execution_count": 28,
   "metadata": {},
   "outputs": [],
   "source": [
    "## binary search\n",
    "\n",
    "def locate_card(cards, query):\n",
    "    lo, hi = 0, len(cards)-1\n",
    "\n",
    "    while lo<=hi:\n",
    "        mid  =  (lo + hi) // 2\n",
    "        mid_number = cards[mid]\n",
    "\n",
    "        print(\"lo:\", lo, \n",
    "        \"hi:\", hi, \n",
    "        \"mid:\", mid, \n",
    "        \"mid_number:\", mid_number)\n",
    "\n",
    "        if mid_number == query:\n",
    "            print(\"Actual Output:\", mid)\n",
    "            return \"\"\n",
    "        elif mid_number < query:\n",
    "            hi = mid - 1\n",
    "        elif mid_number > query:\n",
    "            lo =  mid + 1\n",
    "    return -1\n",
    "\n"
   ]
  },
  {
   "cell_type": "code",
   "execution_count": 29,
   "metadata": {},
   "outputs": [
    {
     "name": "stdout",
     "output_type": "stream",
     "text": [
      "[13, 11, 10, 7, 4, 3, 1, 0] \n",
      "Expected Output: 3\n",
      "lo: 0 hi: 7 mid: 3 mid_number: 7\n",
      "Actual Output: 3\n",
      "\n",
      "[13, 11, 10, 7, 4, 3, 1, 0] \n",
      "Expected Output: 6\n",
      "lo: 0 hi: 7 mid: 3 mid_number: 7\n",
      "lo: 4 hi: 7 mid: 5 mid_number: 3\n",
      "lo: 6 hi: 7 mid: 6 mid_number: 1\n",
      "Actual Output: 6\n",
      "\n",
      "[4, 2, 1, -1] \n",
      "Expected Output: 0\n",
      "lo: 0 hi: 3 mid: 1 mid_number: 2\n",
      "lo: 0 hi: 0 mid: 0 mid_number: 4\n",
      "Actual Output: 0\n",
      "\n",
      "[3, -1, -9, -127] \n",
      "Expected Output: 3\n",
      "lo: 0 hi: 3 mid: 1 mid_number: -1\n",
      "lo: 2 hi: 3 mid: 2 mid_number: -9\n",
      "lo: 3 hi: 3 mid: 3 mid_number: -127\n",
      "Actual Output: 3\n",
      "\n",
      "[6] \n",
      "Expected Output: 0\n",
      "lo: 0 hi: 0 mid: 0 mid_number: 6\n",
      "Actual Output: 0\n",
      "\n",
      "[9, 7, 5, 2, -9] \n",
      "Expected Output: -1\n",
      "lo: 0 hi: 4 mid: 2 mid_number: 5\n",
      "lo: 3 hi: 4 mid: 3 mid_number: 2\n",
      "-1\n",
      "[] \n",
      "Expected Output: -1\n",
      "-1\n",
      "[8, 8, 6, 6, 6, 6, 6, 3, 2, 2, 0, 0] \n",
      "Expected Output: 7\n",
      "lo: 0 hi: 11 mid: 5 mid_number: 6\n",
      "lo: 6 hi: 11 mid: 8 mid_number: 2\n",
      "lo: 6 hi: 7 mid: 6 mid_number: 6\n",
      "lo: 7 hi: 7 mid: 7 mid_number: 3\n",
      "Actual Output: 7\n",
      "\n",
      "[8, 8, 6, 6, 6, 6, 6, 6, 3, 2, 2, 2, 0, 0, 0] \n",
      "Expected Output: 2\n",
      "lo: 0 hi: 14 mid: 7 mid_number: 6\n",
      "Actual Output: 7\n",
      "\n"
     ]
    }
   ],
   "source": [
    "for test in tests:\n",
    "    #print(test['input']['query'])\n",
    "    print(test['input']['cards'],\"\\nExpected Output:\",test['output'])\n",
    "    print(locate_card(**test['input']))"
   ]
  },
  {
   "cell_type": "markdown",
   "metadata": {},
   "source": [
    "[8, 8, 6, 6, 6, 6, 6, 6, 3, 2, 2, 2, 0, 0, 0] \n",
    "Actual Output: 2\n",
    "lo: 0 hi: 14 mid: 7 mid_number: 6\n",
    "Output we got is 7. So this test case has failed here. Seems like we did locate a 6 in the array, it's just that it wasn't the first 6. We got the mid as 7 and the 7th element in the card is 6. As you can guess, this is because in binary search, we don't go over indices in a linear order. \n",
    "\n",
    "So how do we fix it?"
   ]
  },
  {
   "cell_type": "markdown",
   "metadata": {},
   "source": [
    "When we find that cards[mid] is equal to query, we need to check whether it is the first occurrence of query in the list i.e the number that comes before it.\n",
    "\n",
    "[8, 8, 6, 6, 6, 6, 6, 6, 3, 2, 2, 2, 0, 0, 0]\n",
    "\n",
    "To make it easier, we'll define a helper function called test_location, which will take the list cards, the query and mid as inputs."
   ]
  },
  {
   "cell_type": "code",
   "execution_count": 30,
   "metadata": {},
   "outputs": [],
   "source": [
    "def test_location(cards, query, mid):\n",
    "    mid_number = cards[mid]\n",
    "    print(\"mid\", mid, \",mid number\", mid_number)\n",
    "\n",
    "    if mid_number == query:\n",
    "        if mid - 1 >= 0 and cards[mid-1] == query:\n",
    "            return 'left'\n",
    "        else:\n",
    "            return 'found'\n",
    "    elif mid_number < query:\n",
    "        return 'left'\n",
    "    else:\n",
    "        return 'right'\n",
    "\n",
    "\n",
    "def locate_card(cards, query):\n",
    "    lo, hi = 0, len(cards) - 1\n",
    "\n",
    "    while lo <= hi:\n",
    "        print(\"lo:\", lo, \",hi:\", hi)\n",
    "        mid = (lo + hi) // 2\n",
    "        result = test_location(cards, query, mid)\n",
    "\n",
    "        if result == 'found':\n",
    "            print(\"Actual Output:\", mid)\n",
    "            return \" \"\n",
    "        elif result == 'left':\n",
    "            hi = mid - 1\n",
    "        elif result == 'right':\n",
    "            lo = mid + 1\n",
    "        \n",
    "    return -1\n"
   ]
  },
  {
   "cell_type": "code",
   "execution_count": 31,
   "metadata": {},
   "outputs": [
    {
     "name": "stdout",
     "output_type": "stream",
     "text": [
      "[13, 11, 10, 7, 4, 3, 1, 0] \n",
      "Expected Output: 3\n",
      "lo: 0 ,hi: 7\n",
      "mid 3 ,mid number 7\n",
      "Actual Output: 3\n",
      " \n",
      "[13, 11, 10, 7, 4, 3, 1, 0] \n",
      "Expected Output: 6\n",
      "lo: 0 ,hi: 7\n",
      "mid 3 ,mid number 7\n",
      "lo: 4 ,hi: 7\n",
      "mid 5 ,mid number 3\n",
      "lo: 6 ,hi: 7\n",
      "mid 6 ,mid number 1\n",
      "Actual Output: 6\n",
      " \n",
      "[4, 2, 1, -1] \n",
      "Expected Output: 0\n",
      "lo: 0 ,hi: 3\n",
      "mid 1 ,mid number 2\n",
      "lo: 0 ,hi: 0\n",
      "mid 0 ,mid number 4\n",
      "Actual Output: 0\n",
      " \n",
      "[3, -1, -9, -127] \n",
      "Expected Output: 3\n",
      "lo: 0 ,hi: 3\n",
      "mid 1 ,mid number -1\n",
      "lo: 2 ,hi: 3\n",
      "mid 2 ,mid number -9\n",
      "lo: 3 ,hi: 3\n",
      "mid 3 ,mid number -127\n",
      "Actual Output: 3\n",
      " \n",
      "[6] \n",
      "Expected Output: 0\n",
      "lo: 0 ,hi: 0\n",
      "mid 0 ,mid number 6\n",
      "Actual Output: 0\n",
      " \n",
      "[9, 7, 5, 2, -9] \n",
      "Expected Output: -1\n",
      "lo: 0 ,hi: 4\n",
      "mid 2 ,mid number 5\n",
      "lo: 3 ,hi: 4\n",
      "mid 3 ,mid number 2\n",
      "-1\n",
      "[] \n",
      "Expected Output: -1\n",
      "-1\n",
      "[8, 8, 6, 6, 6, 6, 6, 3, 2, 2, 0, 0] \n",
      "Expected Output: 7\n",
      "lo: 0 ,hi: 11\n",
      "mid 5 ,mid number 6\n",
      "lo: 6 ,hi: 11\n",
      "mid 8 ,mid number 2\n",
      "lo: 6 ,hi: 7\n",
      "mid 6 ,mid number 6\n",
      "lo: 7 ,hi: 7\n",
      "mid 7 ,mid number 3\n",
      "Actual Output: 7\n",
      " \n",
      "[8, 8, 6, 6, 6, 6, 6, 6, 3, 2, 2, 2, 0, 0, 0] \n",
      "Expected Output: 2\n",
      "lo: 0 ,hi: 14\n",
      "mid 7 ,mid number 6\n",
      "lo: 0 ,hi: 6\n",
      "mid 3 ,mid number 6\n",
      "lo: 0 ,hi: 2\n",
      "mid 1 ,mid number 8\n",
      "lo: 2 ,hi: 2\n",
      "mid 2 ,mid number 6\n",
      "Actual Output: 2\n",
      " \n"
     ]
    }
   ],
   "source": [
    "for test in tests:\n",
    "    print(test['input']['cards'],\"\\nExpected Output:\",test['output'])\n",
    "    print(locate_card(**test['input']))"
   ]
  },
  {
   "cell_type": "markdown",
   "metadata": {},
   "source": [
    "Once again, let's try to count the number of iterations in the algorithm. If we start out with an array of N elements, then each time the size of the array reduces to half for the next iteration, until we are left with just 1 element.\n",
    "\n",
    "Initial length - N\n",
    "\n",
    "Iteration 1 - N/2\n",
    "\n",
    "Iteration 2 - N/4 i.e. N/2^2\n",
    "\n",
    "Iteration 3 - N/8 i.e. N/2^3\n",
    "\n",
    "...\n",
    "\n",
    "Iteration k - N/2^k\n",
    "\n",
    "Since the final length of the array is 1, we can find the\n",
    "\n",
    "N/2^k = 1\n",
    "\n",
    "Rearranging the terms, we get\n",
    "\n",
    "N = 2^k\n",
    "\n",
    "Taking the logarithm\n",
    "\n",
    "k = log N\n",
    "\n",
    "Where log refers to log to the base 2. Therefore, our algorithm has the time complexity O(log N). This fact is often stated as: binary search runs in logarithmic time. You can verify that the space complexity of binary search is O(1)."
   ]
  },
  {
   "cell_type": "markdown",
   "metadata": {},
   "source": [
    "**Binary Search vs. Linear Search**\n",
    "\n",
    "Furthermore, as the size of the input grows larger, the difference only gets bigger. For a list 10 times, the size, linear search would run for 10 times longer, whereas binary search would only require 3 additional operations! (can you verify this?) That's the real difference between the complexities O(N) and O(log N).\n",
    "\n",
    "Another way to look at it is that binary search runs c * N / log N times faster than linear search, for some fixed constant c. Since log N grows very slowly compared to N, the difference gets larger with the size of the input."
   ]
  },
  {
   "cell_type": "markdown",
   "metadata": {},
   "source": [
    "**Generic Binary Search**\n",
    "\n",
    "Here is the general strategy behind binary search, which is applicable to a variety of problems:\n",
    "\n",
    "Come up with a condition to determine whether the answer lies before, after or at a given position\n",
    "\n",
    "Retrieve the midpoint and the middle element of the list.\n",
    "\n",
    "If it is the answer, return the middle position as the answer.\n",
    "\n",
    "If answer lies before it, repeat the search with the first half of the list\n",
    "\n",
    "If the answer lies after it, repeat the search with the second half of the list.\n",
    "\n",
    "Here is the generic algorithm for binary search, implemented in Python:"
   ]
  },
  {
   "cell_type": "code",
   "execution_count": 32,
   "metadata": {},
   "outputs": [],
   "source": [
    "def binary_search(lo, hi, condition):\n",
    "    '''TODO - describe the function in this documentation'''\n",
    "    while lo <= hi:\n",
    "        mid = (lo + hi) // 2\n",
    "        result = condition(mid)\n",
    "\n",
    "        if result == 'found':\n",
    "            return mid\n",
    "        elif result == 'right':\n",
    "            lo = mid + 1\n",
    "        elif result == 'left':\n",
    "            hi = mid - 1\n",
    "\n",
    "    return -1"
   ]
  },
  {
   "cell_type": "markdown",
   "metadata": {},
   "source": [
    "The worst-case complexity or running time of binary search is O(log N), provided the complexity of the condition used to determine whether the answer lies before, after or at a given position is O(1).\n",
    "\n",
    "Note that binary_search accepts a function condition as an argument. Python allows passing functions as arguments to other functions, unlike C++ and Java.\n",
    "\n",
    "We can now rewrite the locate_card function more succinctly using the binary_search function."
   ]
  },
  {
   "cell_type": "code",
   "execution_count": 33,
   "metadata": {},
   "outputs": [],
   "source": [
    "def locate_card(cards, query): # condition() have access to cards and query as it lies inside this function\n",
    "\n",
    "    def condition(mid): # function closure: writing function inside a function\n",
    "        if cards[mid] == query:\n",
    "            if mid > 0 and cards[mid-1] == query:\n",
    "                return 'left'\n",
    "            else:\n",
    "                return 'found'\n",
    "        elif cards[mid] < query:\n",
    "            return 'left'\n",
    "        else:\n",
    "            return 'right'\n",
    "\n",
    "    return binary_search(0, len(cards) - 1, condition)"
   ]
  },
  {
   "cell_type": "code",
   "execution_count": 34,
   "metadata": {},
   "outputs": [
    {
     "name": "stdout",
     "output_type": "stream",
     "text": [
      "[13, 11, 10, 7, 4, 3, 1, 0] \n",
      "Expected Output: 3\n",
      "3\n",
      "[13, 11, 10, 7, 4, 3, 1, 0] \n",
      "Expected Output: 6\n",
      "6\n",
      "[4, 2, 1, -1] \n",
      "Expected Output: 0\n",
      "0\n",
      "[3, -1, -9, -127] \n",
      "Expected Output: 3\n",
      "3\n",
      "[6] \n",
      "Expected Output: 0\n",
      "0\n",
      "[9, 7, 5, 2, -9] \n",
      "Expected Output: -1\n",
      "-1\n",
      "[] \n",
      "Expected Output: -1\n",
      "-1\n",
      "[8, 8, 6, 6, 6, 6, 6, 3, 2, 2, 0, 0] \n",
      "Expected Output: 7\n",
      "7\n",
      "[8, 8, 6, 6, 6, 6, 6, 6, 3, 2, 2, 2, 0, 0, 0] \n",
      "Expected Output: 2\n",
      "2\n"
     ]
    }
   ],
   "source": [
    "for test in tests:\n",
    "    print(test['input']['cards'],\"\\nExpected Output:\",test['output'])\n",
    "    print(locate_card(**test['input']))\n"
   ]
  },
  {
   "cell_type": "markdown",
   "metadata": {},
   "source": [
    "**Question:**\n",
    "Given an array of integer nums sorted in ascending order, find the starting and ending position of a given number.\n",
    "\n",
    "This differs from the problem in only two significant ways:\n",
    "\n",
    "1. The numbers are sorted in an increasing order.\n",
    "\n",
    "2. We are looking for both start index and the end index.\n",
    "\n",
    "Here's the full code for solving the question, obtained by minor modifications to our previous function."
   ]
  },
  {
   "cell_type": "code",
   "execution_count": 35,
   "metadata": {},
   "outputs": [],
   "source": [
    "def first_position(nums, target):\n",
    "    def condition(mid):\n",
    "        if nums[mid] == target:\n",
    "            if mid > 0 and nums[mid -1] == target:\n",
    "                return 'left'\n",
    "            return 'found'\n",
    "\n",
    "        elif nums[mid] < target:\n",
    "            return 'right'\n",
    "        else:\n",
    "            return 'left'\n",
    "    return binary_search(0, len(nums) - 1, condition)\n",
    "\n",
    "def last_position(nums, target):\n",
    "    def condition(mid):\n",
    "        if nums[mid] == target:\n",
    "            if mid < len(nums) - 1 and nums[mid + 1] == target:\n",
    "                return 'right'\n",
    "            return 'found'\n",
    "\n",
    "        elif nums[mid] < target:\n",
    "            return 'right'\n",
    "\n",
    "        else:\n",
    "            return 'left'\n",
    "\n",
    "    return binary_search(0, len(nums) - 1, condition)\n",
    "\n",
    "def first_and_last_position(nums, target):\n",
    "    return first_position(nums, target), last_position(nums, target)\n",
    "        \n",
    "        \n"
   ]
  },
  {
   "cell_type": "markdown",
   "metadata": {},
   "source": [
    "**DSA Linear and Binary Seach Algorithms**"
   ]
  },
  {
   "cell_type": "markdown",
   "metadata": {},
   "source": [
    "Array searching strategies:\n",
    "1. Linear Search. \n",
    "2. Binary Search.\n",
    "\n",
    "Searching algorithm helps us to find out the index of an array.\n",
    "\n",
    "arr = [20, 40, 70, 12, 22]\n",
    "index = 0, 1, 2, 3, 4\n",
    "\n",
    "Suppose that we are looking for 70. What linear search will do is that, it will look for array elements starting from 0-th index and keep on looking for the element to find out if the element we are looking for matches the element inside the array or not. If matched, then we simply return the position. Otherwise, we will keep traversing the array."
   ]
  },
  {
   "cell_type": "markdown",
   "metadata": {},
   "source": [
    "**Pseudocode:**\n",
    "\n",
    "for i in range(n):\n",
    "\n",
    "    if arr(i) == x:\n",
    "\n",
    "        return i\n",
    "        \n",
    "return -1   (element is not present in the array)\n",
    "\n",
    "\n",
    "Time complexity: O(n) [worst case scenario]\n",
    "\n",
    "Time complexity: O(1) [best case scenario]\n",
    "\n",
    "Time complexity: O(n) [average case scenario]\n",
    "\n",
    "Space complexity: O(1)\n"
   ]
  },
  {
   "cell_type": "code",
   "execution_count": 36,
   "metadata": {},
   "outputs": [
    {
     "name": "stdout",
     "output_type": "stream",
     "text": [
      "Searching element is present at the index: 3\n"
     ]
    }
   ],
   "source": [
    "def linear_search(arr, x):\n",
    "    for i in range(len(arr)):\n",
    "        if arr[i] == x:\n",
    "            return i\n",
    "    return -1\n",
    "\n",
    "# driver code\n",
    "arr = [20, 40, 70, 12, 22]\n",
    "x = 12\n",
    "result = linear_search(arr, x)\n",
    "print('Searching element is present at the index:', result)"
   ]
  },
  {
   "cell_type": "markdown",
   "metadata": {},
   "source": [
    "Binary search works in a divide and conquer way. Here we keep dividing our searchspace into two parts. \n",
    "\n",
    "mid = i + (j-i) // 2 \n",
    "\n",
    "this formula is used to find out the middle index of an array. Now, if the element we are looking for is (<) greater than the mid, then surely the element is present in the right side of the mid.\n",
    "\n",
    "**Pseudocode:** (recursion)\n",
    "\n",
    "Binary_Search(arr, i, j, x):\n",
    "\n",
    "1. Find the mid.\n",
    "\n",
    "2. if arr[mid] == x:\n",
    "\n",
    "        return mid\n",
    "\n",
    "3. if arr[mid] < x:\n",
    "\n",
    "        then the element is on the right side of the mid. Now the updated searchspace will be Binary_Search(arr, mid+1, j, x).\n",
    "\n",
    "4. if arr[mid] > x:\n",
    "\n",
    "        then the element is on the left side of the mid. Now the updated searchspace will be Binary_Search(arr, i, mid-1, x). "
   ]
  },
  {
   "cell_type": "code",
   "execution_count": 37,
   "metadata": {},
   "outputs": [
    {
     "name": "stdout",
     "output_type": "stream",
     "text": [
      "Searching element is at index: 8\n"
     ]
    }
   ],
   "source": [
    "## Binary search implementation\n",
    "def BinarySearch(arr, i, j, x):\n",
    "    while i <= j:\n",
    "        mid = i + (j-i) // 2\n",
    "\n",
    "        if arr[mid] == x:\n",
    "            return mid\n",
    "        elif arr[mid] < x:\n",
    "            return BinarySearch(arr, mid+1, j, x)\n",
    "        else:\n",
    "            return BinarySearch(arr, i, mid-1, x)\n",
    "\n",
    "    return -1\n",
    "            \n",
    "\n",
    "# driver code\n",
    "## sorted array\n",
    "arr = [2, 5, 10, 14, 18, 22, 27, 35, 40, 59]\n",
    "x = 40\n",
    "i = 0\n",
    "j = len(arr) - 1\n",
    "result  = BinarySearch(arr, i, j, x)\n",
    "print('Searching element is at index:', result)\n"
   ]
  },
  {
   "cell_type": "code",
   "execution_count": 38,
   "metadata": {},
   "outputs": [
    {
     "name": "stdout",
     "output_type": "stream",
     "text": [
      "Searching element is at index: 8\n"
     ]
    }
   ],
   "source": [
    "## Binary search with iterative approach\n",
    "\n",
    "## Binary search implementation\n",
    "def BinarySearch(arr, i, j, x):\n",
    "    while i <= j:\n",
    "        mid = i + (j-i) // 2\n",
    "\n",
    "        if arr[mid] == x:\n",
    "            return mid\n",
    "        elif arr[mid] < x:\n",
    "            i = mid + 1\n",
    "        else:\n",
    "            j = mid - 1\n",
    "\n",
    "    return -1\n",
    "            \n",
    "\n",
    "# driver code\n",
    "## sorted array\n",
    "arr = [2, 5, 10, 14, 18, 22, 27, 35, 40, 59]\n",
    "x = 40\n",
    "i = 0\n",
    "j = len(arr) - 1\n",
    "result  = BinarySearch(arr, i, j, x)\n",
    "print('Searching element is at index:', result)\n"
   ]
  },
  {
   "cell_type": "markdown",
   "metadata": {},
   "source": [
    "Time complexity: O(log n)\n",
    "\n",
    "Problem: Given an array = [20, -30, 10, 5, 7, 0, 29, inf, inf, inf, inf]\n",
    "\n",
    "Find the position of the first infinite number in the given array. \n",
    "\n",
    "Expected output: 7"
   ]
  },
  {
   "cell_type": "code",
   "execution_count": 39,
   "metadata": {},
   "outputs": [
    {
     "name": "stdout",
     "output_type": "stream",
     "text": [
      "The position of the first inf is: 8\n"
     ]
    }
   ],
   "source": [
    "## Linear Search\n",
    "def linear_search(arr, x):\n",
    "    for i in range(len(arr)):\n",
    "        if arr[i] == x:\n",
    "            return i\n",
    "    return -1\n",
    "\n",
    "# driver code\n",
    "inf = 11111111111111111\n",
    "arr = [20, -30, 10, 5, 7, 0, 29, inf, inf, inf, inf]\n",
    "x = inf\n",
    "i = 0\n",
    "j= len(arr) - 1\n",
    "res = BinarySearch(arr, i, j, x) \n",
    "print(\"The position of the first inf is:\", res)\n"
   ]
  },
  {
   "cell_type": "code",
   "execution_count": 40,
   "metadata": {},
   "outputs": [],
   "source": [
    "def BinarySearch(i, j, condition):\n",
    "    while i <= j:\n",
    "        mid = i + (j - i) // 2\n",
    "        # if arr[mid] == x:\n",
    "        #     return mid\n",
    "        # elif arr[mid] > x:\n",
    "        #     return BinarySearch(arr, i, mid-1, x)\n",
    "        # elif arr[mid] < x:\n",
    "        #     return BinarySearch(arr, mid+1, j, x)\n",
    "        result = condition(mid)\n",
    "\n",
    "        if result == 'found':\n",
    "            return mid\n",
    "        elif result == 'left':\n",
    "            i = mid - 1\n",
    "        elif result == 'right':\n",
    "            j = mid + 1\n",
    "\n",
    "    return -1\n",
    "\n",
    "def find(arr,x):\n",
    "    def condition(mid):\n",
    "        if arr[mid] == x:\n",
    "            if arr[mid] > 0 and arr[mid-1] == x:\n",
    "                return 'left'\n",
    "            else:\n",
    "                return 'found'\n",
    "\n",
    "        elif arr[mid] < x:\n",
    "            return 'left'\n",
    "        else:\n",
    "            return 'right'\n",
    "    return BinarySearch(i, j, condition)\n",
    "\n",
    "\n",
    "## driver code\n",
    "inf = 11111111111111111\n",
    "arr = [20, -30, 10, 5, 7, 0, 29, inf, inf, inf, inf]\n",
    "x = inf\n",
    "i = 0\n",
    "j= len(arr) - 1\n",
    "#res = BinarySearch(i, j, condition) \n",
    "#print(\"The position of the first inf is:\", res)\n"
   ]
  },
  {
   "cell_type": "code",
   "execution_count": 41,
   "metadata": {},
   "outputs": [
    {
     "name": "stdout",
     "output_type": "stream",
     "text": [
      "The position of the first inf is: 7\n"
     ]
    }
   ],
   "source": [
    "def BinarySearch(arr, i, j, x):\n",
    "    while i <= j:\n",
    "        mid = i + (j - i) // 2\n",
    "\n",
    "        if arr[mid] == x:\n",
    "            return mid\n",
    "        elif arr[mid] < x:\n",
    "            return BinarySearch(arr, mid - 1, j, x)\n",
    "        elif arr[mid] > x and arr[mid-1] == arr[mid]:\n",
    "            BinarySearch(arr, i, mid + 1, x)\n",
    "            return mid-1\n",
    "\n",
    "        return -1\n",
    "\n",
    "\n",
    "## driver code\n",
    "inf = 11111111111111111\n",
    "arr = [20, -30, 10, 5, 7, 0, 29, inf, 23, 45, inf, 5, inf, inf, inf]\n",
    "x = inf\n",
    "i = 0\n",
    "j= len(arr) - 1\n",
    "rslt = BinarySearch(arr, i, j, x) \n",
    "print(\"The position of the first inf is:\", rslt)\n"
   ]
  },
  {
   "cell_type": "markdown",
   "metadata": {},
   "source": [
    "**Search in 2D array**"
   ]
  },
  {
   "cell_type": "code",
   "execution_count": 42,
   "metadata": {},
   "outputs": [
    {
     "name": "stdout",
     "output_type": "stream",
     "text": [
      "True\n"
     ]
    }
   ],
   "source": [
    "def SearchSortedMatrix(matrix, target):\n",
    "    m = len(matrix) # calculates number of rows\n",
    "    if m == 0:\n",
    "        return False\n",
    "    n = len(matrix[0]) # calculates number of columns\n",
    "    \n",
    "    # binary search implementation\n",
    "    left, right = 0, m*n -1\n",
    "\n",
    "    while(left <= right):\n",
    "        mid = left + (right - left) // 2\n",
    "\n",
    "        #Extracting elements from the 2D array\n",
    "        rows = mid // n\n",
    "        cols = mid % n\n",
    "        mid_element = matrix[rows][cols]\n",
    "        \n",
    "        if target == mid_element:\n",
    "            return True\n",
    "        elif target < mid_element:\n",
    "            right = mid - 1\n",
    "        elif target > mid_element:\n",
    "            left = mid + 1\n",
    "    return False\n",
    "# \n",
    "# # driver code\n",
    "matrix = [[1,3,5,7], [10,11,16,20], [23, 30, 34, 60]]\n",
    "target = 3\n",
    "result = SearchSortedMatrix(matrix, target)\n",
    "print(result)"
   ]
  },
  {
   "cell_type": "markdown",
   "metadata": {},
   "source": [
    "**Ternany Search**\n",
    "\n",
    "mid1 = l + (r-l) // 3\n",
    "\n",
    "mid2 = r - (r-l) // 3\n",
    "\n",
    "**Pseudocode:**\n",
    "\n",
    "arr[mid1] == x:\n",
    "\n",
    "    return mid1\n",
    "\n",
    "arr[mid2] == x:\n",
    "\n",
    "    return mid2\n",
    "\n",
    "if arr[mid1] > x:\n",
    "\n",
    "    r = mid1 - 1\n",
    "\n",
    "if arr[mid2] == x:\n",
    "\n",
    "    r = mid2 + 1\n",
    "\n",
    "else:\n",
    "\n",
    "    r, l = mid1+1, mid2-1\n"
   ]
  },
  {
   "cell_type": "markdown",
   "metadata": {},
   "source": [
    "**Frequently asked questions**\n",
    "\n",
    "What is the time complexity of ternary search?\n",
    "The time complexity of ternary search is O(log3 n).\n",
    " \n",
    "Is binary search better than ternary search?\n",
    "Yes, in terms of complexity, binary search is better than ternary search.\n",
    " \n",
    "Is ternary search useful?\n",
    "Ternary search is extremely useful in the case when the function can’t be differentiated easily. We can use it to find the extremum(minimum and maximum) of a function. \n",
    " \n",
    "Is linear search better than binary search?\n",
    "Binary search is more efficient than linear search; it has a time complexity of O(log n). The array must be in a sorted order for it to work.\n",
    " \n",
    "What are the different searching algorithms?\n",
    " Linear search, Binary search and ternary search are the three different searching algorithms."
   ]
  },
  {
   "cell_type": "markdown",
   "metadata": {},
   "source": [
    "**Analysis of the time complexity**\n",
    "\n",
    "Since in ternary search, we divide our array into three parts and discard the two-thirds of space at iteration each time, you might think that it's time complexity is log3(n) which is faster as compared to that of binary search which has a complexity of log2(n), if the size of the array is n. \n",
    "\n",
    "So, ternary search makes 4 comparisons whereas, in binary search, we only make a maximum of 2 comparisons in each iteration. \n",
    "\n",
    "In binary search, T1(n) = 2clog2(n) + O(1)  (c = constant)\n",
    "\n",
    "In ternary search, T2(n) = 4clog3(n) + O(1)  (c=constant)\n",
    " \n",
    "\n",
    "Thus, T2(n)~2*log3(2) * T1(n), implies that ternary search will make more comparisons and thus will have more time complexity. [https://www.codingninjas.com/codestudio/library/binary-search-vs-ternary-search]"
   ]
  },
  {
   "cell_type": "code",
   "execution_count": null,
   "metadata": {},
   "outputs": [
    {
     "ename": "",
     "evalue": "",
     "output_type": "error",
     "traceback": [
      "\u001b[1;31mCanceled future for execute_request message before replies were done"
     ]
    },
    {
     "ename": "",
     "evalue": "",
     "output_type": "error",
     "traceback": [
      "The Kernel crashed while executing code in the the current cell or a previous cell. Please review the code in the cell(s) to identify a possible cause of the failure. Click <a href='https://aka.ms/vscodeJupyterKernelCrash'>here</a> for more info. View Jupyter <a href='command:jupyter.viewOutput'>log</a> for further details."
     ]
    }
   ],
   "source": [
    "def ternary_search(arr, l, r, x):\n",
    "    while(l <= r):\n",
    "        mid1 = l + (r-l) // 3\n",
    "        mid2 = r - (r-l) // 3\n",
    "\n",
    "        if arr[mid1] == x:\n",
    "            return mid1\n",
    "        elif arr[mid2] == x:\n",
    "            return mid2\n",
    "        elif arr[mid1] > x:\n",
    "            return ternary_search(arr, mid1-1, r, x)\n",
    "        elif arr[mid2] < x:\n",
    "            return ternary_search(arr, l, mid2+1, x)\n",
    "        else:\n",
    "            return ternary_search(arr, mid1+1, mid2-1, x)\n",
    "    return -1\n",
    "\n",
    "\n",
    "# Driver code\n",
    "arr = [1, 2, 3, 4, 5, 6, 7, 8 ,9, 10]\n",
    "l = 0\n",
    "r = len(arr) - 1\n",
    "x = 3\n",
    "result= ternary_search(arr, l, r, x)\n",
    "print(\"Searching element is present at index:\",result)"
   ]
  },
  {
   "cell_type": "markdown",
   "metadata": {},
   "source": [
    "Leetcode-33: Search in Rotated Sorted Array\n",
    "\n",
    "There is an integer array nums sorted in ascending order (with distinct values).\n",
    "\n",
    "Prior to being passed to your function, nums is possibly rotated at an unknown pivot index k (1 <= k < nums.length) such that the resulting array is [nums[k], nums[k+1], ..., nums[n-1], nums[0], nums[1], ..., nums[k-1]] (0-indexed). For example, [0,1,2,4,5,6,7] might be rotated at pivot index 3 and become [4,5,6,7,0,1,2].\n",
    "\n",
    "Given the array nums after the possible rotation and an integer target, return the index of target if it is in nums, or -1 if it is not in nums.\n",
    "\n",
    "You must write an algorithm with O(log n) runtime complexity."
   ]
  },
  {
   "cell_type": "code",
   "execution_count": null,
   "metadata": {},
   "outputs": [],
   "source": [
    "class Solution:\n",
    "    def search(self, nums: List[int], target: int) -> int:\n",
    "        l = 0\n",
    "        r = len(nums) - 1\n",
    "        \n",
    "        while(l <= r):\n",
    "            mid = l + (r - l) // 2\n",
    "            \n",
    "            if nums[mid] == target:\n",
    "                return mid\n",
    "            \n",
    "            if nums[l] <= nums[mid]:\n",
    "                \n",
    "                if target > nums[mid] or target < nums[l]:\n",
    "                    l = mid + 1 \n",
    "                else:\n",
    "                    r = mid - 1\n",
    "                \n",
    "            else:\n",
    "                if target > nums[r] or target < nums[mid]:\n",
    "                    r = mid - 1\n",
    "                else:\n",
    "                    l = mid + 1\n",
    "                    \n",
    "        return -1\n",
    "        "
   ]
  },
  {
   "cell_type": "markdown",
   "metadata": {},
   "source": [
    "## Problem - Rotated Lists\n",
    "\n",
    "We'll solve the following problem step-by-step:\n",
    "\n",
    "> You are given list of numbers, obtained by rotating a sorted list an unknown number of times. Write a function to determine the minimum number of times the original sorted list was rotated to obtain the given list. Your function should have the worst-case complexity of `O(log N)`, where N is the length of the list. You can assume that all the numbers in the list are unique.\n",
    ">\n",
    "> Example: The list `[5, 6, 9, 0, 2, 3, 4]` was obtained by rotating the sorted list `[0, 2, 3, 4, 5, 6, 9]` 3 times.\n",
    ">\n",
    "> We define \"rotating a list\" as removing the last element of the list and adding it before the first element. E.g. rotating the list `[3, 2, 4, 1]` produces `[1, 3, 2, 4]`. \n",
    ">\n",
    ">\"Sorted list\" refers to a list where the elements are arranged in the increasing order  e.g. `[1, 3, 5, 7]`.\n",
    ">"
   ]
  },
  {
   "cell_type": "code",
   "execution_count": null,
   "metadata": {},
   "outputs": [],
   "source": [
    "def count_rotations_binary(nums):\n",
    "    lo = 0\n",
    "    hi = len(nums) - 1\n",
    "    \n",
    "    while lo <= hi:\n",
    "        mid = lo + (hi - lo) // 2\n",
    "        mid_number = nums[mid]\n",
    "        \n",
    "        # Uncomment the next line for logging the values and fixing errors.\n",
    "        print(\"lo:\", lo, \", hi:\", hi, \", mid:\", mid, \", mid_number:\", mid_number)\n",
    "        \n",
    "        if mid > 0 and nums[mid] < nums[mid - 1]:\n",
    "            # The middle position is the answer\n",
    "            return mid\n",
    "        \n",
    "        elif nums[mid] < hi:\n",
    "            # Answer lies in the left half\n",
    "            hi = mid - 1  \n",
    "        \n",
    "        else:\n",
    "            # Answer lies in the right half\n",
    "            lo = mid + 1\n",
    "    \n",
    "    return 0\n",
    "\n",
    "    # for detailed code visit jovian.ai website and complete assignment-1"
   ]
  },
  {
   "cell_type": "markdown",
   "metadata": {},
   "source": [
    "Leetcode-704: Binary Search\n",
    "\n",
    "Given an array of integers nums which is sorted in ascending order, and an integer target, write a function to search target in nums. If target exists, then return its index. Otherwise, return -1.\n",
    "\n",
    "You must write an algorithm with O(log n) runtime complexity."
   ]
  },
  {
   "cell_type": "code",
   "execution_count": null,
   "metadata": {},
   "outputs": [],
   "source": [
    "class Solution:\n",
    "    def search(self, nums: List[int], target: int) -> int:\n",
    "        n = len(nums)\n",
    "        lo = 0\n",
    "        hi = n - 1\n",
    "        \n",
    "        while lo <= hi:\n",
    "            mid = lo + (hi - lo) // 2\n",
    "            \n",
    "            if nums[mid] == target:\n",
    "                return mid\n",
    "            elif nums[mid] < target:\n",
    "                lo = mid + 1\n",
    "            elif nums[mid] > target:\n",
    "                hi = mid - 1\n",
    "        return -1\n",
    "        "
   ]
  }
 ],
 "metadata": {
  "kernelspec": {
   "display_name": "Python 3.9.7 64-bit",
   "language": "python",
   "name": "python3"
  },
  "language_info": {
   "codemirror_mode": {
    "name": "ipython",
    "version": 3
   },
   "file_extension": ".py",
   "mimetype": "text/x-python",
   "name": "python",
   "nbconvert_exporter": "python",
   "pygments_lexer": "ipython3",
   "version": "3.9.7"
  },
  "orig_nbformat": 4,
  "vscode": {
   "interpreter": {
    "hash": "d53f250bb2553594e063185717e70639c4fad0553ce47f360ebb15c939323966"
   }
  }
 },
 "nbformat": 4,
 "nbformat_minor": 2
}
