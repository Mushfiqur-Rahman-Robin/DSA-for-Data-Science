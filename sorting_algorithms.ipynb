{
  "cells": [
    {
      "cell_type": "markdown",
      "metadata": {
        "id": "iJU6j1sXnPa2"
      },
      "source": [
        "**Sorting algorithm**\n",
        "\n",
        "Sorting algorithms are mainly devided into two classes. \n",
        "\n",
        "1. Comparison-based. (Directly compares values between the array)\n",
        "\n",
        "2. Non-comparison based. (No direct comparison between the values)\n",
        "\n",
        "Classification of comparison based sorting algorithms:\n",
        "\n",
        "1. Selection sort.\n",
        "\n",
        "2. Bubble sort.\n",
        "\n",
        "3. Insertion sort.\n",
        "\n",
        "4. Quick sort.\n",
        "\n",
        "5. Merge sort.\n",
        "\n",
        "6. Heap sort.\n",
        "\n",
        "Quick sort and Merge sorts are example of divide and conquer approach.\n",
        "\n",
        "\n",
        "Non-comparison based sorting algorithms are divided into these following categories:\n",
        "\n",
        "1. Count sort.\n",
        "\n",
        "2. Radix sort.\n",
        "\n",
        "3. Bucket sort.\n",
        "\n",
        "Sorting algorithms are optimized based on time complexity and space complexity."
      ]
    },
    {
      "cell_type": "markdown",
      "metadata": {
        "id": "YjSIkzclnPa9"
      },
      "source": [
        "Here is also another concept related to stable sort and unstable sort.\n",
        "\n",
        "In stable sort the relative order is maintained after sorting. For example, in a dictionary key-value pair {(4,2), (5,7), (4,3), (6,8), (7,10)} where the first element of the pair is considered as key and the 2nd element is considered as value.\n",
        "\n",
        "This can be sorted in the following two ways:\n",
        "\n",
        "{(4,2), (4,3), (5,7), (6,8), (7,10)} or \n",
        "{(4,3), (4,2), (5,7), (6,8), (7,10)}. Both the sorts are alright. But observe the two sorts carefully. In the first sort the relative order of the given key-value pair is maintained. Here (4,2) was initially the proper sorted order. So {(4,2), (4,3), (5,7), (6,8), (7,10)} is called stable sort. On the other hand, {(4,3), (4,2), (5,7), (6,8), (7,10)} is called the unstable sort/Not stable sort. \n",
        "\n",
        "Quicksort, Selection sort, Heap sort are some of the examples of *unstable sort*.\n"
      ]
    },
    {
      "cell_type": "markdown",
      "metadata": {
        "id": "gTztxylAnPa_"
      },
      "source": [
        "**Inplace and outplace sort**\n",
        "\n",
        "Inplace sort: We are not going to use any extra space in order to sort an array.\n",
        "\n",
        "Outplace sort: We need some extra space in order to sort an array. A famous example of outplace sort is the Merge sort."
      ]
    },
    {
      "cell_type": "markdown",
      "metadata": {
        "id": "wX-ZYhH2nPbA"
      },
      "source": [
        "Time complexity of Bubble sort is O(n^2)"
      ]
    },
    {
      "cell_type": "code",
      "execution_count": 1,
      "metadata": {
        "colab": {
          "base_uri": "https://localhost:8080/"
        },
        "id": "CEEQL6XlnPbB",
        "outputId": "f34204c5-e03c-4652-fd07-c30f2965e3ac"
      },
      "outputs": [
        {
          "output_type": "stream",
          "name": "stdout",
          "text": [
            "Sorted array obtained by implementing Bubble sort: [5, 15, 20, 30, 50, 70, 90]\n"
          ]
        }
      ],
      "source": [
        "def bubblesort(arr):\n",
        "    n = len(arr)\n",
        "\n",
        "    for i in range(n):\n",
        "        for j in range(n-i-1):\n",
        "            if arr[j] > arr[j+1]:\n",
        "                arr[j], arr[j+1] = arr[j+1], arr[j]\n",
        "\n",
        "    return arr\n",
        "\n",
        "\n",
        "## Driver code\n",
        "arr = [70,20,50,30,90,5,15]\n",
        "result = bubblesort(arr)\n",
        "print(\"Sorted array obtained by implementing Bubble sort:\", result) "
      ]
    },
    {
      "cell_type": "markdown",
      "metadata": {
        "id": "rwWMGuuHnPbF"
      },
      "source": [
        "**Selection Sort**\n",
        "\n",
        "Time complexity: O(n^2)"
      ]
    },
    {
      "cell_type": "code",
      "execution_count": 2,
      "metadata": {
        "colab": {
          "base_uri": "https://localhost:8080/"
        },
        "id": "vbUzm_eAnPbG",
        "outputId": "2a3efb15-3a00-4277-9d9b-33cf7f18e90f"
      },
      "outputs": [
        {
          "output_type": "stream",
          "name": "stdout",
          "text": [
            "The result obtained after implementing selection sort: [11, 17, 20, 29, 37, 38, 50, 75]\n"
          ]
        }
      ],
      "source": [
        "def selection_sort(arr):\n",
        "    n = len(arr)\n",
        "    for i in range(n):\n",
        "        # to store the index of the minimum element\n",
        "        min_idx = i\n",
        "\n",
        "        for j in range(i+1, n):\n",
        "            if arr[j] < arr[min_idx]:\n",
        "                min_idx = j \n",
        "\n",
        "        ## swap of the element in at i and min_idx\n",
        "        arr[i], arr[min_idx] = arr[min_idx], arr[i]\n",
        "    return arr\n",
        "\n",
        "## driver code\n",
        "arr = [50, 38, 75, 29, 11, 17, 20, 37]\n",
        "result = selection_sort(arr)\n",
        "print(\"The result obtained after implementing selection sort:\",result)\n"
      ]
    },
    {
      "cell_type": "code",
      "execution_count": 3,
      "metadata": {
        "colab": {
          "base_uri": "https://localhost:8080/"
        },
        "id": "akOsZ9mhnPbH",
        "outputId": "eb31408f-aac8-49ee-fb3c-90d5a971f272"
      },
      "outputs": [
        {
          "output_type": "stream",
          "name": "stdout",
          "text": [
            "Array obtained after applying insertion sort is: [1, 3, 4, 5, 9]\n"
          ]
        }
      ],
      "source": [
        "def insertion_sort(arr):\n",
        "    for i in range(1, len(arr)):\n",
        "        key = arr[i]\n",
        "        j = i - 1\n",
        "\n",
        "        while j >= 0 and key < arr[j]:\n",
        "            arr[j+1] = arr[j]\n",
        "            j = j - 1\n",
        "        arr[j+1] = key \n",
        "    return arr\n",
        "\n",
        "## Driver code\n",
        "arr = [9, 5, 1, 4, 3]\n",
        "result  = insertion_sort(arr)\n",
        "print(\"Array obtained after applying insertion sort is:\", result)"
      ]
    },
    {
      "cell_type": "markdown",
      "metadata": {
        "id": "WuP60IMLnPbI"
      },
      "source": [
        "**Heapsort**\n",
        "\n",
        "Question: Given an array find out the Top-K frequent elements in an array."
      ]
    },
    {
      "cell_type": "code",
      "execution_count": 4,
      "metadata": {
        "colab": {
          "base_uri": "https://localhost:8080/"
        },
        "id": "0Lz-EokdnPbJ",
        "outputId": "1b8edbdf-fe55-41a8-9fa1-053e0bc8c239"
      },
      "outputs": [
        {
          "output_type": "stream",
          "name": "stdout",
          "text": [
            "Counter({1: 4, 2: 3, 3: 1})\n",
            "The top k frequent elements are: [1, 2]\n"
          ]
        }
      ],
      "source": [
        "from collections import Counter\n",
        "import heapq\n",
        "\n",
        "def topKfrequent(arr, k):\n",
        "    if k == len(arr):\n",
        "        return set(arr)\n",
        "    # count is a dictionary\n",
        "    # unique values as key\n",
        "    # frequency of unique items are values\n",
        "    count = Counter(arr)\n",
        "    print(count)\n",
        "    return heapq.nlargest(k, count.keys(), key=count.get)\n",
        "    \n",
        "\n",
        "# driver code\n",
        "arr = [1,1,1,1, 2,2,2, 3]\n",
        "k = 2\n",
        "result = topKfrequent(arr, k)\n",
        "print(\"The top k frequent elements are:\", result)"
      ]
    },
    {
      "cell_type": "markdown",
      "metadata": {
        "id": "QqK12rC9nPbJ"
      },
      "source": [
        "**Question:**\n",
        "\n",
        "Find the k closest points.\n"
      ]
    },
    {
      "cell_type": "code",
      "execution_count": 5,
      "metadata": {
        "colab": {
          "base_uri": "https://localhost:8080/"
        },
        "id": "mXzU76__nPbK",
        "outputId": "944d6a4e-a5a2-4d65-9458-69e198a801f8"
      },
      "outputs": [
        {
          "output_type": "stream",
          "name": "stdout",
          "text": [
            "K closest point to the origin are: [[3, 3], [-2, 4]]\n"
          ]
        }
      ],
      "source": [
        "from heapq import heappush, heappop\n",
        "import math\n",
        "\n",
        "def get_dist(x, y):\n",
        "    return (x**2 + y**2) # finds the eucledian distance\n",
        "\n",
        "def KClosestPoint(arr, k):\n",
        "    min_heap = []\n",
        "    n = len(arr)\n",
        "    for i in range(n):\n",
        "        x = arr[i][0]\n",
        "        y = arr[i][1]\n",
        "\n",
        "        # to insert the elements inside the minheap\n",
        "        heappush(min_heap, (get_dist(x,y), arr[i]))\n",
        "    \n",
        "    result = []\n",
        "    for i in range(k):\n",
        "        # pops element from the minheap\n",
        "        result.append(heappop(min_heap)[1])\n",
        "    return result\n",
        "\n",
        "\n",
        "# driver code\n",
        "arr = [[3,3], [5, -1], [-2,4]]\n",
        "k = 2\n",
        "result = KClosestPoint(arr, k)\n",
        "print(\"K closest point to the origin are:\", result)"
      ]
    },
    {
      "cell_type": "markdown",
      "source": [
        "# Quicksort"
      ],
      "metadata": {
        "id": "ZNGriEdzncoQ"
      }
    },
    {
      "cell_type": "markdown",
      "source": [
        "Quicksort is better if the array is completely unsorted. Quicksort depends on the partitioning approach. There is a pivot element and another element `j` > `pivot`. \n",
        "In contrast, `i` < `pivot`\n",
        "\n",
        "\n",
        "If  `j` > `pivot`, the algorithm simply moves on. But \n",
        "\n",
        "# Pseudocode of the partition algorithm:\n",
        "\n",
        "partition(arr, p, q)\n",
        "\n",
        "pivot = arr[p]\n",
        "\n",
        "i = p\n",
        "\n",
        "for j = 1; j < n; j++;\n",
        "\n",
        "  if arr[j] <= pivot:\n",
        "    \n",
        "    i+=1\n",
        "    \n",
        "    swap(arr[i], arr[j])\n",
        "\n",
        "  swap((arr[i], arr[p])\n",
        "\n",
        "return i"
      ],
      "metadata": {
        "id": "LGCyzSQCnh-u"
      }
    },
    {
      "cell_type": "markdown",
      "source": [
        "All the elements left to the pivot are smaller. On the other hand all the elememt right to the pivot are larger than the pivot."
      ],
      "metadata": {
        "id": "IbuK38Yft93L"
      }
    },
    {
      "cell_type": "markdown",
      "source": [
        "# **Pseudocode for Quick Sort**\n",
        "\n",
        "quicksort(arr, p, q):\n",
        "\n",
        "if p < q:\n",
        "\n",
        "  mid = partition(arr, p, q)\n",
        "\n",
        "  quicksort(arr, p, m - 1)\n",
        "\n",
        "  quicksort(arr, m + 1, q)"
      ],
      "metadata": {
        "id": "61UswQ2YvlNI"
      }
    },
    {
      "cell_type": "code",
      "execution_count": 7,
      "metadata": {
        "colab": {
          "base_uri": "https://localhost:8080/"
        },
        "id": "wHShn2XnnPbK",
        "outputId": "46d4b231-08e5-42e8-8cd9-da8287ab82ce"
      },
      "outputs": [
        {
          "output_type": "stream",
          "name": "stdout",
          "text": [
            "The result after applying quicksort is:  [20, 21, 35, 45, 57, 81]\n"
          ]
        }
      ],
      "source": [
        "# implementation of quicksort\n",
        "\n",
        "def partition(arr, p, q): # time complexity of partition is O(n)\n",
        "  pivot = arr[p] # taking starting element as a pivot element\n",
        "  i = p\n",
        "\n",
        "  for j in range(i+1, q+1):\n",
        "    if arr[j] <= pivot:\n",
        "      i += 1\n",
        "      arr[i], arr[j] = arr[j], arr[i]\n",
        "  arr[i], arr[p] = arr[p], arr[i] # swap between the arr[i] and the pivot element\n",
        "  return i\n",
        "\n",
        "\n",
        "\n",
        "def quicksorted(arr, p, q):\n",
        "  if p < q:\n",
        "    mid = partition(arr, p, q)  # time complexity T(mid-p)\n",
        "    quicksorted(arr, p, mid-1)  # time complexity T(q-mid)\n",
        "    quicksorted(arr, mid+1, q)\n",
        "  return arr\n",
        "\n",
        "\n",
        "# driver code\n",
        "\n",
        "arr = [20, 35, 21, 57, 81, 45]\n",
        "p = 0\n",
        "q = len(arr)  - 1\n",
        "result = quicksorted(arr, p, q)\n",
        "print('The result after applying quicksort is: ', result)\n"
      ]
    }
  ],
  "metadata": {
    "kernelspec": {
      "display_name": "Python 3.9.7 64-bit",
      "language": "python",
      "name": "python3"
    },
    "language_info": {
      "codemirror_mode": {
        "name": "ipython",
        "version": 3
      },
      "file_extension": ".py",
      "mimetype": "text/x-python",
      "name": "python",
      "nbconvert_exporter": "python",
      "pygments_lexer": "ipython3",
      "version": "3.9.7"
    },
    "orig_nbformat": 4,
    "vscode": {
      "interpreter": {
        "hash": "d53f250bb2553594e063185717e70639c4fad0553ce47f360ebb15c939323966"
      }
    },
    "colab": {
      "provenance": []
    }
  },
  "nbformat": 4,
  "nbformat_minor": 0
}