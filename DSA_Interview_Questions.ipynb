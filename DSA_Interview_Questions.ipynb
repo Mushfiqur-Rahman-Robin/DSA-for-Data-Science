{
  "nbformat": 4,
  "nbformat_minor": 0,
  "metadata": {
    "colab": {
      "provenance": [],
      "collapsed_sections": []
    },
    "kernelspec": {
      "name": "python3",
      "display_name": "Python 3"
    },
    "language_info": {
      "name": "python"
    }
  },
  "cells": [
    {
      "cell_type": "markdown",
      "source": [
        "# Collinear Points"
      ],
      "metadata": {
        "id": "CLdGftkkzZT9"
      }
    },
    {
      "cell_type": "code",
      "execution_count": 1,
      "metadata": {
        "id": "DRBCNgExzJst"
      },
      "outputs": [],
      "source": [
        "# Collinear means that if all the points are on the same line or not. In this case, the slope of the line for the points will be equal.\n",
        "\n",
        "# y2-y1 / x2-x1 = y3-y2 / x3-x2  # In this case division by zero exception can occur.\n",
        "\n",
        "# (y2-y1) (x3-x2) = (y3-y2) (x2-x1)\n",
        "\n",
        "# Another approach is to consider that, if the points are collinear then the triangle of the points are zero."
      ]
    },
    {
      "cell_type": "code",
      "source": [
        "# Using slope concept\n",
        "# Time complexity O(1)\n",
        "# Space complexity O(1)\n",
        "def iscollinearpoints(x1,x2,x3,y1,y2,y3):\n",
        "  if ((y2-y1)*(x3-x2) == (y3-y2)*(x2-x1)):\n",
        "    print(\"Points are collinear\")\n",
        "  else:\n",
        "    print('Points are not collinear')\n",
        "\n",
        "# Driver Code\n",
        "\n",
        "x1, x2, x3, y1, y2, y3 = 2, 7, 3, 5, 9, 1\n",
        "iscollinearpoints(x1,x2,x3,y1,y2,y3)"
      ],
      "metadata": {
        "colab": {
          "base_uri": "https://localhost:8080/"
        },
        "id": "49SJlD6y1Zp3",
        "outputId": "053bcecd-2f90-4ad3-acbb-51e32a0ecc79"
      },
      "execution_count": 2,
      "outputs": [
        {
          "output_type": "stream",
          "name": "stdout",
          "text": [
            "Points are not collinear\n"
          ]
        }
      ]
    },
    {
      "cell_type": "code",
      "source": [
        "# Using triangle concept\n",
        "# Time complexity O(1)\n",
        "# Space complexity O(1)\n",
        "def iscollinearpoints(x1,x2,x3,y1,y2,y3):\n",
        "  area = 0.5*(x1 * (y2-y3) + x2 * (y3-y1) + x3 * (y1-y2))\n",
        "  if area == 0:\n",
        "    print(\"Collinear\")\n",
        "  else:\n",
        "    print(\"Not Collinear\")\n",
        "\n",
        "# Driver Code\n",
        "\n",
        "x1, x2, x3, y1, y2, y3 = 2, 7, 3, 5, 9, 1\n",
        "iscollinearpoints(x1,x2,x3,y1,y2,y3)"
      ],
      "metadata": {
        "colab": {
          "base_uri": "https://localhost:8080/"
        },
        "id": "6L4Aweb82mID",
        "outputId": "713509b7-0344-4bd2-f913-ac2e4f3cf25d"
      },
      "execution_count": 3,
      "outputs": [
        {
          "output_type": "stream",
          "name": "stdout",
          "text": [
            "Not Collinear\n"
          ]
        }
      ]
    },
    {
      "cell_type": "markdown",
      "source": [
        "# **Color Sorting**"
      ],
      "metadata": {
        "id": "qqPvNApJ80gv"
      }
    },
    {
      "cell_type": "code",
      "source": [
        "# Here we will use the concept of two pointers\n",
        "\n",
        "# [0, 2, 1, 1, 2, 0]\n",
        "\n",
        "# p0 -> To store 0's in the extreme left\n",
        "# p1 -> To store 2's in the extreme right\n",
        "\n",
        "# p0, cuurent = 0\n",
        "# p2 = n-1 (n is the size of the array)\n",
        "\n",
        "# loop until curr <= p2\n",
        "# time complexity O(n)\n",
        "# space complexity 0(1)"
      ],
      "metadata": {
        "id": "wMDehXkC84iC"
      },
      "execution_count": 4,
      "outputs": []
    },
    {
      "cell_type": "code",
      "source": [
        "def sortedColors(nums):\n",
        "  p0 = curr = 0\n",
        "  p2 = len(nums) - 1 # index 5 of a 6-element array\n",
        "\n",
        "\n",
        "  while curr <= p2:\n",
        "    if nums[curr] == p0:\n",
        "      nums[p0], nums[curr] = nums[curr], nums[p0]\n",
        "      p0 += 1\n",
        "      curr += 1 # as we are sure that the index 0 has 0, we are updating the index position\n",
        "    elif nums[curr] == 2:\n",
        "      nums[p2], nums[curr] = nums[curr], nums[p2]      \n",
        "      p2 -= 1\n",
        "    else:\n",
        "      curr += 1\n",
        "  return nums\n",
        "\n",
        "# driver code\n",
        "nums = [2, 1, 1, 2, 0 , 2, 1]\n",
        "result = sortedColors(nums)\n",
        "print(\"The colors in the sorted order is: \", result)"
      ],
      "metadata": {
        "colab": {
          "base_uri": "https://localhost:8080/"
        },
        "id": "mOjSc4l9-OnO",
        "outputId": "a77803b2-383a-46bd-c826-23d4dd3771ae"
      },
      "execution_count": 5,
      "outputs": [
        {
          "output_type": "stream",
          "name": "stdout",
          "text": [
            "The colors in the sorted order is:  [0, 1, 1, 1, 2, 2, 2]\n"
          ]
        }
      ]
    },
    {
      "cell_type": "markdown",
      "source": [
        "# **Selection Procedure**\n",
        "\n",
        "Find the K-th smallest element in an array."
      ],
      "metadata": {
        "id": "Kz2J_KY-jvX3"
      }
    },
    {
      "cell_type": "markdown",
      "source": [
        "# Pseudocode:\n",
        "\n",
        "selectionprocedure(arr, p, q, k):\n",
        "\n",
        "  if p < q:\n",
        "    \n",
        "    mid = partition(arr, p, q)\n",
        "\n",
        "    if mid == k:\n",
        "      return arr[m-1]\n",
        "    elif mid < k:\n",
        "      return selectionprocedure(arr, p, q, k)\n",
        "    else:\n",
        "      return selectionprocedure(arr, p, m-2, k) , here mid > k"
      ],
      "metadata": {
        "id": "QkyDGxggk-TD"
      }
    },
    {
      "cell_type": "code",
      "source": [
        "def partition(arr, p, q):\n",
        "  i = p\n",
        "  pivot = arr[p]\n",
        "  for j in range(i+1, q+1):\n",
        "    if arr[j] <= pivot:\n",
        "      i += 1\n",
        "      arr[i], arr[j] = arr[j], arr[i]\n",
        "  arr[i], arr[p] = arr[p], arr[i]\n",
        "  return i + 1\n",
        "\n",
        "\n",
        "\n",
        "def selectionProcedure(arr, p, q, k):\n",
        "  if len(arr) == 1:\n",
        "    return arr[p]\n",
        "  else:\n",
        "    mid = partition(arr, p, q)\n",
        "    if mid == k:\n",
        "      return arr[mid-1]\n",
        "    elif mid < k:\n",
        "      return selectionProcedure(arr, mid, q, k)\n",
        "    else:\n",
        "      return selectionProcedure(arr, p, mid-2, k)\n",
        "\n",
        "\n",
        "# driver code\n",
        "k = 6\n",
        "arr = [23, 11, 98, 56, 27, 78]\n",
        "p = 0\n",
        "q = len(arr) - 1\n",
        "result = selectionProcedure(arr, p, q, k)\n",
        "print('The {} th smallest elemetnt is'.format(k), result)"
      ],
      "metadata": {
        "id": "uBQ971XYj6dQ",
        "colab": {
          "base_uri": "https://localhost:8080/"
        },
        "outputId": "39ab4cd3-f064-4945-945c-3731ab5d3a8e"
      },
      "execution_count": 11,
      "outputs": [
        {
          "output_type": "stream",
          "name": "stdout",
          "text": [
            "The 6 th smallest elemetnt is 98\n"
          ]
        }
      ]
    },
    {
      "cell_type": "code",
      "source": [],
      "metadata": {
        "id": "slRs2ObD4h2O"
      },
      "execution_count": null,
      "outputs": []
    }
  ]
}