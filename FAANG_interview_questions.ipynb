{
 "cells": [
  {
   "cell_type": "markdown",
   "metadata": {},
   "source": [
    "# Best time to buy and sell stocks"
   ]
  },
  {
   "cell_type": "code",
   "execution_count": 2,
   "metadata": {},
   "outputs": [
    {
     "name": "stdout",
     "output_type": "stream",
     "text": [
      "The max profit of buying and selling the stock is: 14\n"
     ]
    }
   ],
   "source": [
    "def findmaxprofit(prices):\n",
    "    min_price = float('inf')\n",
    "    max_profit = 0\n",
    "\n",
    "    for i in range(len(prices)):\n",
    "        if prices[i] < min_price:\n",
    "            min_price = prices[i]\n",
    "        elif prices[i] - min_price > max_profit:\n",
    "            max_profit = prices[i] - min_price\n",
    "    return max_profit\n",
    "\n",
    "prices = [7,1, 5, 3, 6, 4, 15]\n",
    "maxprofit = findmaxprofit(prices)\n",
    "print(\"The max profit of buying and selling the stock is:\", maxprofit)"
   ]
  },
  {
   "cell_type": "markdown",
   "metadata": {},
   "source": [
    "# Finding min and max element in an array using divide and conquer approach"
   ]
  },
  {
   "cell_type": "code",
   "execution_count": 6,
   "metadata": {},
   "outputs": [
    {
     "name": "stdout",
     "output_type": "stream",
     "text": [
      "Max and Min element in the given array is: 70 10\n"
     ]
    }
   ],
   "source": [
    "def findMaxandMin(arr,i,j):\n",
    "    # small problem\n",
    "    # if single element is in the array\n",
    "    if i == j:\n",
    "        max_val = arr[i]\n",
    "        min_val = arr[i]\n",
    "    # if two elements are in the array\n",
    "    elif i == j - 1:\n",
    "        if arr[i] < arr[j]:\n",
    "            max_val = arr[j]\n",
    "            min_val = arr[i]\n",
    "        else:\n",
    "            max_val = arr[i]\n",
    "            min_val = arr[j]\n",
    "    # big problem: divide and conquer approach\n",
    "    else:\n",
    "        # divide\n",
    "        mid = i + (j - i)//2\n",
    "        # recursion\n",
    "        max_l, min_l = findMaxandMin(arr, i, mid)\n",
    "        max_r, min_r = findMaxandMin(arr, mid+1, j)\n",
    "        # combine\n",
    "        if max_l < max_r:\n",
    "            max_val = max_r\n",
    "        else:\n",
    "            max_val = max_l\n",
    "        \n",
    "        if min_l < min_r:\n",
    "            min_val = min_l\n",
    "        else:\n",
    "            min_val = min_r\n",
    "\n",
    "    return max_val, min_val\n",
    "\n",
    "\n",
    "#driver code\n",
    "arr = [10, 70, 45, 16, 29, 30, 35, 20]\n",
    "i = 0  # initial index\n",
    "j = len(arr) - 1\n",
    "\n",
    "max_val, min_val = findMaxandMin(arr,i,j)\n",
    "print(\"Max and Min element in the given array is:\", max_val, min_val)"
   ]
  },
  {
   "cell_type": "markdown",
   "metadata": {},
   "source": [
    "# Finding power of an element"
   ]
  },
  {
   "cell_type": "code",
   "execution_count": 1,
   "metadata": {},
   "outputs": [
    {
     "name": "stdout",
     "output_type": "stream",
     "text": [
      "The power of an element is: 9\n"
     ]
    }
   ],
   "source": [
    "def findPowerOfElement(a, n):\n",
    "    if n == 1:\n",
    "        return a\n",
    "    else:\n",
    "        mid = n // 2\n",
    "        b = findPowerOfElement(a, mid)\n",
    "        result = b * b \n",
    "        #even\n",
    "        if n % 2 == 0:\n",
    "            return result\n",
    "        else:\n",
    "            return result * a\n",
    "\n",
    "a = 3\n",
    "n = 20\n",
    "result = findPowerOfElement(a, n)\n",
    "print(\"The power of an element is:\", result)"
   ]
  },
  {
   "cell_type": "code",
   "execution_count": null,
   "metadata": {},
   "outputs": [],
   "source": []
  }
 ],
 "metadata": {
  "kernelspec": {
   "display_name": "Python 3.9.7 64-bit",
   "language": "python",
   "name": "python3"
  },
  "language_info": {
   "codemirror_mode": {
    "name": "ipython",
    "version": 3
   },
   "file_extension": ".py",
   "mimetype": "text/x-python",
   "name": "python",
   "nbconvert_exporter": "python",
   "pygments_lexer": "ipython3",
   "version": "3.9.7"
  },
  "orig_nbformat": 4,
  "vscode": {
   "interpreter": {
    "hash": "d53f250bb2553594e063185717e70639c4fad0553ce47f360ebb15c939323966"
   }
  }
 },
 "nbformat": 4,
 "nbformat_minor": 2
}
