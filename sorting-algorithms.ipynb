{
 "cells": [
  {
   "cell_type": "markdown",
   "metadata": {},
   "source": [
    "**Sorting algorithm**\n",
    "\n",
    "Sorting algorithms are mainly devided into two classes. \n",
    "\n",
    "1. Comparison-based. (Directly compares values between the array)\n",
    "\n",
    "2. Non-comparison based. (No direct comparison between the values)\n",
    "\n",
    "Classification of comparison based sorting algorithms:\n",
    "\n",
    "1. Selection sort.\n",
    "\n",
    "2. Bubble sort.\n",
    "\n",
    "3. Insertion sort.\n",
    "\n",
    "4. Quick sort.\n",
    "\n",
    "5. Merge sort.\n",
    "\n",
    "6. Heap sort.\n",
    "\n",
    "Quick sort and Merge sorts are example of divide and conquer approach.\n",
    "\n",
    "\n",
    "Non-comparison based sorting algorithms are divided into these following categories:\n",
    "\n",
    "1. Count sort.\n",
    "\n",
    "2. Radix sort.\n",
    "\n",
    "3. Bucket sort.\n",
    "\n",
    "Sorting algorithms are optimized based on time complexity and space complexity."
   ]
  },
  {
   "cell_type": "markdown",
   "metadata": {},
   "source": [
    "Here is also another concept related to stable sort and unstable sort.\n",
    "\n",
    "In stable sort the relative order is maintained after sorting. For example, in a dictionary key-value pair {(4,2), (5,7), (4,3), (6,8), (7,10)} where the first element of the pair is considered as key and the 2nd element is considered as value.\n",
    "\n",
    "This can be sorted in the following two ways:\n",
    "\n",
    "{(4,2), (4,3), (5,7), (6,8), (7,10)} or \n",
    "{(4,3), (4,2), (5,7), (6,8), (7,10)}. Both the sorts are alright. But observe the two sorts carefully. In the first sort the relative order of the given key-value pair is maintained. Here (4,2) was initially the proper sorted order. So {(4,2), (4,3), (5,7), (6,8), (7,10)} is called stable sort. On the other hand, {(4,3), (4,2), (5,7), (6,8), (7,10)} is called the unstable sort/Not stable sort. \n",
    "\n",
    "Quicksort, Selection sort, Heap sort are some of the examples of *unstable sort*.\n"
   ]
  },
  {
   "cell_type": "markdown",
   "metadata": {},
   "source": [
    "**Inplace and outplace sort**\n",
    "\n",
    "Inplace sort: We are not going to use any extra space in order to sort an array.\n",
    "\n",
    "Outplace sort: We need some extra space in order to sort an array. A famous example of outplace sort is the Merge sort."
   ]
  },
  {
   "cell_type": "markdown",
   "metadata": {},
   "source": [
    "Time complexity of Bubble sort is O(n^2)"
   ]
  },
  {
   "cell_type": "code",
   "execution_count": 2,
   "metadata": {},
   "outputs": [
    {
     "name": "stdout",
     "output_type": "stream",
     "text": [
      "Sorted array obtained by implementing Bubble sort: [5, 15, 20, 30, 50, 70, 90]\n"
     ]
    }
   ],
   "source": [
    "def bubblesort(arr):\n",
    "    n = len(arr)\n",
    "\n",
    "    for i in range(n):\n",
    "        for j in range(n-i-1):\n",
    "            if arr[j] > arr[j+1]:\n",
    "                arr[j], arr[j+1] = arr[j+1], arr[j]\n",
    "\n",
    "    return arr\n",
    "\n",
    "\n",
    "## Driver code\n",
    "arr = [70,20,50,30,90,5,15]\n",
    "result = bubblesort(arr)\n",
    "print(\"Sorted array obtained by implementing Bubble sort:\", result) "
   ]
  },
  {
   "cell_type": "markdown",
   "metadata": {},
   "source": [
    "**Selection Sort**\n",
    "\n",
    "Time complexity: O(n^2)"
   ]
  },
  {
   "cell_type": "code",
   "execution_count": 4,
   "metadata": {},
   "outputs": [
    {
     "name": "stdout",
     "output_type": "stream",
     "text": [
      "The result obtained after implementing selection sort: [11, 17, 20, 29, 37, 38, 50, 75]\n"
     ]
    }
   ],
   "source": [
    "def selection_sort(arr):\n",
    "    n = len(arr)\n",
    "    for i in range(n):\n",
    "        # to store the index of the minimum element\n",
    "        min_idx = i\n",
    "\n",
    "        for j in range(i+1, n):\n",
    "            if arr[j] < arr[min_idx]:\n",
    "                min_idx = j \n",
    "\n",
    "        ## swap of the element in at i and min_idx\n",
    "        arr[i], arr[min_idx] = arr[min_idx], arr[i]\n",
    "    return arr\n",
    "\n",
    "## driver code\n",
    "arr = [50, 38, 75, 29, 11, 17, 20, 37]\n",
    "result = selection_sort(arr)\n",
    "print(\"The result obtained after implementing selection sort:\",result)\n"
   ]
  },
  {
   "cell_type": "code",
   "execution_count": 6,
   "metadata": {},
   "outputs": [
    {
     "name": "stdout",
     "output_type": "stream",
     "text": [
      "Array obtained after applying insertion sort is: [1, 3, 4, 5, 9]\n"
     ]
    }
   ],
   "source": [
    "def insertion_sort(arr):\n",
    "    for i in range(1, len(arr)):\n",
    "        key = arr[i]\n",
    "        j = i - 1\n",
    "\n",
    "        while j >= 0 and key < arr[j]:\n",
    "            arr[j+1] = arr[j]\n",
    "            j = j - 1\n",
    "        arr[j+1] = key \n",
    "    return arr\n",
    "\n",
    "## Driver code\n",
    "arr = [9, 5, 1, 4, 3]\n",
    "result  = insertion_sort(arr)\n",
    "print(\"Array obtained after applying insertion sort is:\", result)"
   ]
  },
  {
   "cell_type": "code",
   "execution_count": null,
   "metadata": {},
   "outputs": [],
   "source": []
  }
 ],
 "metadata": {
  "kernelspec": {
   "display_name": "Python 3.9.7 64-bit",
   "language": "python",
   "name": "python3"
  },
  "language_info": {
   "codemirror_mode": {
    "name": "ipython",
    "version": 3
   },
   "file_extension": ".py",
   "mimetype": "text/x-python",
   "name": "python",
   "nbconvert_exporter": "python",
   "pygments_lexer": "ipython3",
   "version": "3.9.7"
  },
  "orig_nbformat": 4,
  "vscode": {
   "interpreter": {
    "hash": "d53f250bb2553594e063185717e70639c4fad0553ce47f360ebb15c939323966"
   }
  }
 },
 "nbformat": 4,
 "nbformat_minor": 2
}
